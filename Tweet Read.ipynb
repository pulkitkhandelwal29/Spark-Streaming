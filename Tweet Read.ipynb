{
 "cells": [
  {
   "cell_type": "code",
   "execution_count": 3,
   "id": "1550a87a",
   "metadata": {},
   "outputs": [],
   "source": [
    "import tweepy\n",
    "from tweepy import OAuthHandler,Stream"
   ]
  },
  {
   "cell_type": "code",
   "execution_count": 1,
   "id": "29e3aa33",
   "metadata": {},
   "outputs": [],
   "source": [
    "from tweepy.streaming import StreamListener"
   ]
  },
  {
   "cell_type": "code",
   "execution_count": 2,
   "id": "a3ad1a16",
   "metadata": {},
   "outputs": [],
   "source": [
    "import socket\n",
    "import json"
   ]
  },
  {
   "cell_type": "code",
   "execution_count": 3,
   "id": "0d56478f",
   "metadata": {},
   "outputs": [],
   "source": [
    "consumer_key = 'tAkMNMoZ6xpvjGF2oNitG9c25'\n",
    "consumer_secret = '2fa80tTbvdvbiTnvmQmdXfkRfiNj761Hczvje4OLbKf6uVk00v'\n",
    "access_token = '1378067595719368706-lwM3rDXj2EmR7hXFqEm985TAxvavyi'\n",
    "access_secret = 'jg2P9KzoU2dWQNmqf7L5ra8jIKqJ3B38HeX9izQXYjdeK'"
   ]
  },
  {
   "cell_type": "code",
   "execution_count": 4,
   "id": "2d4c14a1",
   "metadata": {},
   "outputs": [],
   "source": [
    "class TweetsListener(StreamListener):\n",
    "\n",
    "  def __init__(self, csocket):\n",
    "      self.client_socket = csocket\n",
    "\n",
    "  def on_data(self, data):\n",
    "      try:\n",
    "          msg = json.loads( data )\n",
    "          print( msg['text'].encode('utf-8') )\n",
    "          self.client_socket.send( msg['text'].encode('utf-8') )\n",
    "          return True\n",
    "      except BaseException as e:\n",
    "          print(\"Error on_data: %s\" % str(e))\n",
    "      return True\n",
    "\n",
    "  def on_error(self, status):\n",
    "      print(status)\n",
    "      return True"
   ]
  },
  {
   "cell_type": "code",
   "execution_count": 6,
   "id": "1d732cd9",
   "metadata": {},
   "outputs": [],
   "source": [
    "def sendData(c_socket):\n",
    "  auth = OAuthHandler(consumer_key, consumer_secret)\n",
    "  auth.set_access_token(access_token, access_secret)\n",
    "\n",
    "  twitter_stream = Stream(auth, TweetsListener(c_socket))\n",
    "  twitter_stream.filter(track=['cricket']) #searching for term on twitter"
   ]
  },
  {
   "cell_type": "code",
   "execution_count": null,
   "id": "d8229e64",
   "metadata": {},
   "outputs": [],
   "source": [
    "if __name__ == \"__main__\":\n",
    "  s = socket.socket()         # Create a socket object\n",
    "  host = \"127.0.0.1\"          # Get local machine name\n",
    "  port = 5555                 # Reserve a port for your service.\n",
    "  s.bind((host, port))        # Bind to the port\n",
    "\n",
    "  print(\"Listening on port: %s\" % str(port))\n",
    "\n",
    "  s.listen(5)                 # Now wait for client connection.\n",
    "  c, addr = s.accept()        # Establish connection with client.\n",
    "\n",
    "  print( \"Received request from: \" + str( addr ) )\n",
    "\n",
    "  sendData( c )"
   ]
  },
  {
   "cell_type": "code",
   "execution_count": null,
   "id": "362283d3",
   "metadata": {},
   "outputs": [],
   "source": []
  }
 ],
 "metadata": {
  "kernelspec": {
   "display_name": "Python 3",
   "language": "python",
   "name": "python3"
  },
  "language_info": {
   "codemirror_mode": {
    "name": "ipython",
    "version": 3
   },
   "file_extension": ".py",
   "mimetype": "text/x-python",
   "name": "python",
   "nbconvert_exporter": "python",
   "pygments_lexer": "ipython3",
   "version": "3.8.8"
  }
 },
 "nbformat": 4,
 "nbformat_minor": 5
}
